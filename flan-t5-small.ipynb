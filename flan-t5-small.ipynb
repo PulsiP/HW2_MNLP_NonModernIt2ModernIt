{
 "cells": [
  {
   "cell_type": "code",
   "execution_count": null,
   "id": "fb7289f7",
   "metadata": {},
   "outputs": [],
   "source": [
    "import pandas as pd\n",
    "from datasets import Dataset\n",
    "from transformers import AutoTokenizer, AutoModelForSeq2SeqLM, pipeline"
   ]
  },
  {
   "cell_type": "code",
   "execution_count": null,
   "id": "71da9d1a",
   "metadata": {},
   "outputs": [],
   "source": [
    "class OldItalianDataset(Dataset):\n",
    "    \n",
    "    def __init__(self, path):\n",
    "        self.path=path\n",
    "        self.dataset = pd.read_csv(path)  \n",
    "\n",
    "    def __len__(self):\n",
    "        return len(self.dataset)\n",
    "\n",
    "    def __getitem__(self, idx):\n",
    "        self.idx=idx\n",
    "        row = self.dataset.iloc[idx]\n",
    "        return row[\"Sentence\"]\n",
    "    \n",
    "    def __iter__(self):\n",
    "        for i in range(len(self)):\n",
    "            yield self[i]\n",
    "\n",
    "dataset = OldItalianDataset(\"/home/filippo/Documents/Homework_MNLP_sentencepiece/cleaned_dataset.csv\")  \n",
    "text=[]\n",
    "\n",
    "for sentence in dataset:\n",
    "    text.append(sentence)"
   ]
  },
  {
   "cell_type": "code",
   "execution_count": null,
   "id": "fcb52999",
   "metadata": {},
   "outputs": [],
   "source": [
    "# PROMPT: Translate this sentence from Old Italian to Modern Italian\n",
    "\n",
    "model_name = \"google/flan-t5-small\"  \n",
    "tokenizer = AutoTokenizer.from_pretrained(model_name)\n",
    "model = AutoModelForSeq2SeqLM.from_pretrained(model_name)\n",
    "\n",
    "pipe = pipeline(\"text2text-generation\", model=model, tokenizer=tokenizer)\n",
    "\n",
    "def translate_with_flan(sentence, idx):\n",
    "    sentence=text[idx]\n",
    "    prompt = f\"Translate this sentence from Old Italian to Modern Italian: {sentence}\"\n",
    "    return pipe(prompt, max_new_tokens=100)[0]['generated_text']\n"
   ]
  },
  {
   "cell_type": "code",
   "execution_count": null,
   "id": "5abe1c93",
   "metadata": {},
   "outputs": [],
   "source": [
    "for i in range(10):\n",
    "    print(f\"Original sentence number {i+1}: {text[i]}\")\n",
    "    print(\"---------------------\")\n",
    "    print(f\"Translated sentence number {i+1}: {translate_with_flan(text[i],i)}\")\n",
    "    print(\"---------------------\")"
   ]
  },
  {
   "cell_type": "code",
   "execution_count": null,
   "id": "224afe41",
   "metadata": {},
   "outputs": [],
   "source": [
    "# PROMPT: Translate this sentence from Old Italian to Modern Italian as if you were an italian professor\n",
    "\n",
    "model_name = \"google/flan-t5-small\"  \n",
    "tokenizer = AutoTokenizer.from_pretrained(model_name)\n",
    "model = AutoModelForSeq2SeqLM.from_pretrained(model_name)\n",
    "\n",
    "pipe = pipeline(\"text2text-generation\", model=model, tokenizer=tokenizer)\n",
    "\n",
    "def translate_with_flan(sentence, idx):\n",
    "    sentence=text[idx]\n",
    "    prompt = f\"Translate this sentence from Old Italian to Modern Italian as if you were an italian professor: {sentence}\"\n",
    "    return pipe(prompt, max_new_tokens=100)[0]['generated_text']\n"
   ]
  },
  {
   "cell_type": "code",
   "execution_count": null,
   "id": "01c68078",
   "metadata": {},
   "outputs": [],
   "source": [
    "for i in range(10):\n",
    "    print(f\"Original sentence number {i+1}: {text[i]}\")\n",
    "    print(\"---------------------\")\n",
    "    print(f\"Translated sentence number {i+1}: {translate_with_flan(text[i],i)}\")\n",
    "    print(\"---------------------\")"
   ]
  },
  {
   "cell_type": "code",
   "execution_count": null,
   "id": "895d9e28",
   "metadata": {},
   "outputs": [],
   "source": [
    "# PROMPT: Translate this ancient italian sentences considering that they come from a specific period (15th century) and they are written by famous poets od the time\n",
    "\n",
    "model_name = \"google/flan-t5-small\"  \n",
    "tokenizer = AutoTokenizer.from_pretrained(model_name)\n",
    "model = AutoModelForSeq2SeqLM.from_pretrained(model_name)\n",
    "\n",
    "pipe = pipeline(\"text2text-generation\", model=model, tokenizer=tokenizer)\n",
    "\n",
    "def translate_with_flan(sentence, idx):\n",
    "    sentence=text[idx]\n",
    "    prompt = f\"Translate this ancient italian sentences considering that they come from a specific period (15th century) and they are written by famous poets od the time: {sentence}\"\n",
    "    return pipe(prompt, max_new_tokens=100)[0]['generated_text']\n"
   ]
  },
  {
   "cell_type": "code",
   "execution_count": null,
   "id": "eec757ec",
   "metadata": {},
   "outputs": [],
   "source": [
    "for i in range(10):\n",
    "    print(f\"Original sentence number {i+1}: {text[i]}\")\n",
    "    print(\"---------------------\")\n",
    "    print(f\"Translated sentence number {i+1}: {translate_with_flan(text[i],i)}\")\n",
    "    print(\"---------------------\")"
   ]
  }
 ],
 "metadata": {
  "kernelspec": {
   "display_name": "MNLP_env",
   "language": "python",
   "name": "python3"
  },
  "language_info": {
   "codemirror_mode": {
    "name": "ipython",
    "version": 3
   },
   "file_extension": ".py",
   "mimetype": "text/x-python",
   "name": "python",
   "nbconvert_exporter": "python",
   "pygments_lexer": "ipython3",
   "version": "3.9.21"
  }
 },
 "nbformat": 4,
 "nbformat_minor": 5
}
