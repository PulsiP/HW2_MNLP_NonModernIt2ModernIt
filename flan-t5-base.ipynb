{
 "cells": [
  {
   "cell_type": "code",
   "execution_count": 1,
   "id": "fb7289f7",
   "metadata": {},
   "outputs": [
    {
     "name": "stderr",
     "output_type": "stream",
     "text": [
      "/home/filippo/miniconda3/envs/MNLP_env/lib/python3.9/site-packages/tqdm/auto.py:21: TqdmWarning: IProgress not found. Please update jupyter and ipywidgets. See https://ipywidgets.readthedocs.io/en/stable/user_install.html\n",
      "  from .autonotebook import tqdm as notebook_tqdm\n"
     ]
    }
   ],
   "source": [
    "import pandas as pd\n",
    "from datasets import Dataset\n",
    "from transformers import AutoTokenizer, AutoModelForSeq2SeqLM, pipeline"
   ]
  },
  {
   "cell_type": "code",
   "execution_count": 2,
   "id": "71da9d1a",
   "metadata": {},
   "outputs": [],
   "source": [
    "class OldItalianDataset(Dataset):\n",
    "    \n",
    "    def __init__(self, path):\n",
    "        self.path=path\n",
    "        self.dataset = pd.read_csv(path)  \n",
    "\n",
    "    def __len__(self):\n",
    "        return len(self.dataset)\n",
    "\n",
    "    def __getitem__(self, idx):\n",
    "        self.idx=idx\n",
    "        row = self.dataset.iloc[idx]\n",
    "        return row[\"Sentence\"]\n",
    "    \n",
    "    def __iter__(self):\n",
    "        for i in range(len(self)):\n",
    "            yield self[i]\n",
    "\n",
    "dataset = OldItalianDataset(\"/home/filippo/Documents/Visual Studio Code/Homework2_MNLP/HW2_MNLP_NonModernIt2ModernIt/cleaned_dataset.csv\")  \n",
    "text=[]\n",
    "\n",
    "for sentence in dataset:\n",
    "    text.append(sentence)"
   ]
  },
  {
   "cell_type": "code",
   "execution_count": null,
   "id": "fcb52999",
   "metadata": {},
   "outputs": [
    {
     "name": "stderr",
     "output_type": "stream",
     "text": [
      "Device set to use cpu\n"
     ]
    }
   ],
   "source": [
    "# PROMPT: Translate this sentence from Old Italian to Modern Italian\n",
    "\n",
    "model_name = \"google/flan-t5-base\"  \n",
    "tokenizer = AutoTokenizer.from_pretrained(model_name)\n",
    "model = AutoModelForSeq2SeqLM.from_pretrained(model_name)\n",
    "\n",
    "pipe = pipeline(\"text2text-generation\", model=model, tokenizer=tokenizer)\n",
    "\n",
    "def translate_with_flan(sentence, idx):\n",
    "    sentence=text[idx]\n",
    "    prompt = f\"Translate this sentence from Old Italian to Modern Italian: {sentence}\"\n",
    "    return pipe(prompt, max_new_tokens=100)[0]['generated_text']"
   ]
  },
  {
   "cell_type": "code",
   "execution_count": 4,
   "id": "5abe1c93",
   "metadata": {},
   "outputs": [
    {
     "name": "stdout",
     "output_type": "stream",
     "text": [
      "Original sentence number 1: quella guerra ben fatta l' opera perché etc. Et dall' altra parte Aiaces era uno cavaliere franco e prode all' arme, di gran guisa, ma non era pieno di grande senno\n",
      "---------------------\n",
      "Translated sentence number 1: e aiuta aiaces era un franco giro e aiuta ai armei, e aiuta ai loro senza senza senza senza senza senza senza senza senza senza senza senza \n",
      "---------------------\n",
      "Original sentence number 2: crudele, e di tutte le colpe pigli vendetta, come dice la legge, ed a neuno cavaliere perdoni che pecchi.\n",
      "---------------------\n",
      "Translated sentence number 2: e delle strade più riconosciute, come dice la legge, e a nuote cavaliere perdoni che scelte.\n",
      "---------------------\n",
      "Original sentence number 3: Non d' altra forza d' animo fue ornato Ponzio Aufidiano, romano cavaliere.\n",
      "---------------------\n",
      "Translated sentence number 3: Non d'altra forza d'anima era ornato Ponzio Aufidiano, romano cavaliere.\n",
      "---------------------\n",
      "Original sentence number 4: Se questo piace a tutti e se 'l tempo hae bisogno d'avere Pompeio per cavaliere e non per compagno, non riterrò più i fati.\n",
      "---------------------\n",
      "Translated sentence number 4: Se tutti fa bene e se il tempo è bisogno di avere Pompeio per cavaliere e non per compagno, non riuscire a fare più i fati.\n",
      "---------------------\n",
      "Original sentence number 5: Officio di questa arte pare che sia dicere appostatamente per fare credere, fine è far credere per lo dire.\n",
      "---------------------\n",
      "Translated sentence number 5: Il punto di questa arte pare che è di dire ad essere a pensare, e il punto di dire è di dire a pensare.\n",
      "---------------------\n",
      "Original sentence number 6: Ecco e larghi ventipiovoli caggiono delle risolute nebbie; e potresti credere che tutto il cielo cadesse nel mare\n",
      "---------------------\n",
      "Translated sentence number 6: E questo e gli ventipiovoli stanno delle risolute nebbie; e potresti credere che tutto il cielo stanno nel mare.\n",
      "---------------------\n",
      "Original sentence number 7: Però che or chi spererebbe quello che eziandio questi che non vogliono ancora credere in Cristo, già veggiono con noi, e perché nol possono negare, stridono colli denti.\n",
      "---------------------\n",
      "Translated sentence number 7: Perché o quali spererebbe qualcosa che stanno avere questi che non vogliono a credere a Cristo, e che vengono con noi, e perché il nostro possibilità stanno avere stretto i cerchi.\n",
      "---------------------\n",
      "Original sentence number 8: I vendimenti de' morti et le presure de' vivi fece la frode d'uno feroce re.\n",
      "---------------------\n",
      "Translated sentence number 8: Il venditore della morte e della presida della vita è la fece del feroce re.\n",
      "---------------------\n",
      "Original sentence number 9: Acciocché quegli, il quale ora per le sue gran reità è feroce e onorevole, egli d'ogni male afflitto e tormentato della impietà verso il mio padre.\n",
      "---------------------\n",
      "Translated sentence number 9: E 'cominciato a trovare il loro risorso che è ferocio e odiovole, e gli avere sempre afflitto e trovata il loro sperimento a mio padre.\n",
      "---------------------\n",
      "Original sentence number 10: Gli uomini spessamente a stare fermi nella bugia incontra la verità.\n",
      "---------------------\n",
      "Translated sentence number 10: Il uomo spesso a stesse fermi nella bugia è verità.\n",
      "---------------------\n"
     ]
    }
   ],
   "source": [
    "for i in range(10):\n",
    "    print(f\"Original sentence number {i+1}: {text[i]}\")\n",
    "    print(\"---------------------\")\n",
    "    print(f\"Translated sentence number {i+1}: {translate_with_flan(text[i],i)}\")\n",
    "    print(\"---------------------\")"
   ]
  },
  {
   "cell_type": "code",
   "execution_count": 5,
   "id": "224afe41",
   "metadata": {},
   "outputs": [
    {
     "name": "stderr",
     "output_type": "stream",
     "text": [
      "Device set to use cpu\n"
     ]
    }
   ],
   "source": [
    "# PROMPT: Translate this sentence from Old Italian to Modern Italian as if you were an italian professor\n",
    "\n",
    "model_name = \"google/flan-t5-base\"  \n",
    "tokenizer = AutoTokenizer.from_pretrained(model_name)\n",
    "model = AutoModelForSeq2SeqLM.from_pretrained(model_name)\n",
    "\n",
    "pipe = pipeline(\"text2text-generation\", model=model, tokenizer=tokenizer)\n",
    "\n",
    "def translate_with_flan(sentence, idx):\n",
    "    sentence=text[idx]\n",
    "    prompt = f\"Translate this sentence from Old Italian to Modern Italian as if you were an italian professor: {sentence}\"\n",
    "    return pipe(prompt, max_new_tokens=100)[0]['generated_text']\n"
   ]
  },
  {
   "cell_type": "code",
   "execution_count": 6,
   "id": "01c68078",
   "metadata": {},
   "outputs": [
    {
     "name": "stdout",
     "output_type": "stream",
     "text": [
      "Original sentence number 1: quella guerra ben fatta l' opera perché etc. Et dall' altra parte Aiaces era uno cavaliere franco e prode all' arme, di gran guisa, ma non era pieno di grande senno\n",
      "---------------------\n",
      "Translated sentence number 1: e aiuta aiaces era un franco giro e aiuta ai armei, e aiuta ai loro arma, ma non era pieno di grande senza.\n",
      "---------------------\n",
      "Original sentence number 2: crudele, e di tutte le colpe pigli vendetta, come dice la legge, ed a neuno cavaliere perdoni che pecchi.\n",
      "---------------------\n",
      "Translated sentence number 2: e a tutti i bambini che siano avere un professor italiano: sulle strade, e delle strade più sviluppa, come dice la legge, e a nuote cavaliere perdoni che siano a tutti.\n",
      "---------------------\n",
      "Original sentence number 3: Non d' altra forza d' animo fue ornato Ponzio Aufidiano, romano cavaliere.\n",
      "---------------------\n",
      "Translated sentence number 3: Non d'altra forza d'animo era ornato Ponzio Aufidiano, romano cavaliere.\n",
      "---------------------\n",
      "Original sentence number 4: Se questo piace a tutti e se 'l tempo hae bisogno d'avere Pompeio per cavaliere e non per compagno, non riterrò più i fati.\n",
      "---------------------\n",
      "Translated sentence number 4: Se tutti fa avere Pompeio per cavaliere e non per compagno, non riuscire a fare più i fati.\n",
      "---------------------\n",
      "Original sentence number 5: Officio di questa arte pare che sia dicere appostatamente per fare credere, fine è far credere per lo dire.\n",
      "---------------------\n",
      "Translated sentence number 5: Il punto di questa arte pare che è di dire ad essere a pensare, e il punto di dire è di dire a pensare.\n",
      "---------------------\n",
      "Original sentence number 6: Ecco e larghi ventipiovoli caggiono delle risolute nebbie; e potresti credere che tutto il cielo cadesse nel mare\n",
      "---------------------\n",
      "Translated sentence number 6: e i ventipiovoli stanno delle risolute nebbie; e potresti credere che tutto il cielo stanno nel mare.\n",
      "---------------------\n",
      "Original sentence number 7: Però che or chi spererebbe quello che eziandio questi che non vogliono ancora credere in Cristo, già veggiono con noi, e perché nol possono negare, stridono colli denti.\n",
      "---------------------\n",
      "Translated sentence number 7: e sarebbe che o chi spererebbe qualcosa che stanno avere questi che non vogliono a credere nel Cristo, e che nel vostro sviluppo, stanno strettuti denti.\n",
      "---------------------\n",
      "Original sentence number 8: I vendimenti de' morti et le presure de' vivi fece la frode d'uno feroce re.\n",
      "---------------------\n",
      "Translated sentence number 8: e il risultato della morte e della morte è il risultato della vita.\n",
      "---------------------\n",
      "Original sentence number 9: Acciocché quegli, il quale ora per le sue gran reità è feroce e onorevole, egli d'ogni male afflitto e tormentato della impietà verso il mio padre.\n",
      "---------------------\n",
      "Translated sentence number 9: che tutti, il quale è il momento per i suoi risorse è ferocio e odiovole, e gli avere sempre afflitto e trovata della storia a mio padre.\n",
      "---------------------\n",
      "Original sentence number 10: Gli uomini spessamente a stare fermi nella bugia incontra la verità.\n",
      "---------------------\n",
      "Translated sentence number 10: e sempre il uomo è sempre a sempre a sempre a sempre a sempre a sempre a sempre a sempre a sempre a sempre a sempre a sempre a sempre a sempre a sempre a sempre a sempre a \n",
      "---------------------\n"
     ]
    }
   ],
   "source": [
    "for i in range(10):\n",
    "    print(f\"Original sentence number {i+1}: {text[i]}\")\n",
    "    print(\"---------------------\")\n",
    "    print(f\"Translated sentence number {i+1}: {translate_with_flan(text[i],i)}\")\n",
    "    print(\"---------------------\")"
   ]
  },
  {
   "cell_type": "code",
   "execution_count": 7,
   "id": "895d9e28",
   "metadata": {},
   "outputs": [
    {
     "name": "stderr",
     "output_type": "stream",
     "text": [
      "Device set to use cpu\n"
     ]
    }
   ],
   "source": [
    "# PROMPT: Translate this ancient italian sentences considering that they come from a specific period (15th century) and they are written by famous poets od the time\n",
    "\n",
    "model_name = \"google/flan-t5-base\"  \n",
    "tokenizer = AutoTokenizer.from_pretrained(model_name)\n",
    "model = AutoModelForSeq2SeqLM.from_pretrained(model_name)\n",
    "\n",
    "pipe = pipeline(\"text2text-generation\", model=model, tokenizer=tokenizer)\n",
    "\n",
    "def translate_with_flan(sentence, idx):\n",
    "    sentence=text[idx]\n",
    "    prompt = f\"Translate this ancient italian sentences considering that they come from a specific period (15th century) and they are written by famous poets od the time: {sentence}\"\n",
    "    return pipe(prompt, max_new_tokens=100)[0]['generated_text']"
   ]
  },
  {
   "cell_type": "code",
   "execution_count": 8,
   "id": "eec757ec",
   "metadata": {},
   "outputs": [
    {
     "name": "stdout",
     "output_type": "stream",
     "text": [
      "Original sentence number 1: quella guerra ben fatta l' opera perché etc. Et dall' altra parte Aiaces era uno cavaliere franco e prode all' arme, di gran guisa, ma non era pieno di grande senno\n",
      "---------------------\n",
      "Translated sentence number 1: Aiaces era un franco cavaliere e ad avere arma, e a trovare il cervello, e a trovare il cervello, e a trovare il cervello, e a trovare il cervello, e a trovare il cervello,\n",
      "---------------------\n",
      "Original sentence number 2: crudele, e di tutte le colpe pigli vendetta, come dice la legge, ed a neuno cavaliere perdoni che pecchi.\n",
      "---------------------\n",
      "Translated sentence number 2: E 'di tutti i tuoi scrittori che siano sulla storia ad esempio ad esempio ad esempio ad esempio ad esempio ad esempio ad esemp\n",
      "---------------------\n",
      "Original sentence number 3: Non d' altra forza d' animo fue ornato Ponzio Aufidiano, romano cavaliere.\n",
      "---------------------\n",
      "Translated sentence number 3: Non d'altra forza d'animo fue ornato Ponzio Aufidiano, romano cavaliere.\n",
      "---------------------\n",
      "Original sentence number 4: Se questo piace a tutti e se 'l tempo hae bisogno d'avere Pompeio per cavaliere e non per compagno, non riterrò più i fati.\n",
      "---------------------\n",
      "Translated sentence number 4: Se tutti sapete e se 'il tempo avrebbe bisogno di avere Pompeio per cavaliere e non per compagno, non riuscire a trovare più i fati.\n",
      "---------------------\n",
      "Original sentence number 5: Officio di questa arte pare che sia dicere appostatamente per fare credere, fine è far credere per lo dire.\n",
      "---------------------\n",
      "Translated sentence number 5: E 'una storia che è che è dovuto dire ad essere a pensare, e 'una storia che è dovuto dire a pensare.\n",
      "---------------------\n",
      "Original sentence number 6: Ecco e larghi ventipiovoli caggiono delle risolute nebbie; e potresti credere che tutto il cielo cadesse nel mare\n",
      "---------------------\n",
      "Translated sentence number 6: E 'una e 'una e 'una e 'una e 'una e 'una e 'una e 'una e 'una e 'una e 'una e 'una e 'una e 'una e 'una e 'una e 'un\n",
      "---------------------\n",
      "Original sentence number 7: Però che or chi spererebbe quello che eziandio questi che non vogliono ancora credere in Cristo, già veggiono con noi, e perché nol possono negare, stridono colli denti.\n",
      "---------------------\n",
      "Translated sentence number 7: E 'perché o chi spererebbe qualcosa che stanno avere questi che non vogliono a credere a Cristo, e che vengono con noi, e perché il nostro possibilità stanno avere stredono colli denti.\n",
      "---------------------\n",
      "Original sentence number 8: I vendimenti de' morti et le presure de' vivi fece la frode d'uno feroce re.\n",
      "---------------------\n",
      "Translated sentence number 8: E 'il feroce re è un feroce re.\n",
      "---------------------\n",
      "Original sentence number 9: Acciocché quegli, il quale ora per le sue gran reità è feroce e onorevole, egli d'ogni male afflitto e tormentato della impietà verso il mio padre.\n",
      "---------------------\n",
      "Translated sentence number 9: E 'cominciato a trovare il loro risorso, il loro risorso è ferocio e odiovole, e il loro risorso è afflitto e tormentato dalla storia a mio padre.\n",
      "---------------------\n",
      "Original sentence number 10: Gli uomini spessamente a stare fermi nella bugia incontra la verità.\n",
      "---------------------\n",
      "Translated sentence number 10: E 'una storia che è stata a scelta a storia a storia a storia a storia a storia a storia a storia a storia a storia a storia a storia a storia a storia\n",
      "---------------------\n"
     ]
    }
   ],
   "source": [
    "for i in range(10):\n",
    "    print(f\"Original sentence number {i+1}: {text[i]}\")\n",
    "    print(\"---------------------\")\n",
    "    print(f\"Translated sentence number {i+1}: {translate_with_flan(text[i],i)}\")\n",
    "    print(\"---------------------\")"
   ]
  },
  {
   "cell_type": "code",
   "execution_count": 3,
   "id": "1279993d",
   "metadata": {},
   "outputs": [
    {
     "name": "stderr",
     "output_type": "stream",
     "text": [
      "Device set to use cpu\n"
     ]
    }
   ],
   "source": [
    "# PROMPT: Traduci queste frasi dall'italiano antico a quello moderno\n",
    "\n",
    "model_name = \"google/flan-t5-base\"  \n",
    "tokenizer = AutoTokenizer.from_pretrained(model_name)\n",
    "model = AutoModelForSeq2SeqLM.from_pretrained(model_name)\n",
    "\n",
    "pipe = pipeline(\"text2text-generation\", model=model, tokenizer=tokenizer)\n",
    "\n",
    "def translate_with_flan(sentence, idx):\n",
    "    sentence=text[idx]\n",
    "    prompt = f\"Traduci queste frasi dall'italiano antico a quello moderno: {sentence}\"\n",
    "    return pipe(prompt, max_new_tokens=100)[0]['generated_text']"
   ]
  },
  {
   "cell_type": "code",
   "execution_count": 4,
   "id": "562511cd",
   "metadata": {},
   "outputs": [
    {
     "name": "stdout",
     "output_type": "stream",
     "text": [
      "Original sentence number 1: quella guerra ben fatta l' opera perché etc. Et dall' altra parte Aiaces era uno cavaliere franco e prode all' arme, di gran guisa, ma non era pieno di grande senno\n",
      "---------------------\n",
      "Translated sentence number 1: Tradui queste frasi dall'italiano antico a quello moderno: quella guerra ben fatta l' opera perché etc. Et dall'altra parte Aiaces era uno cavaliere franco e prodotto l'arme, di grande guisa, ma non era pieno di grande senno.\n",
      "---------------------\n",
      "Original sentence number 2: crudele, e di tutte le colpe pigli vendetta, come dice la legge, ed a neuno cavaliere perdoni che pecchi.\n",
      "---------------------\n",
      "Translated sentence number 2: I sto te sto d'altra et d'altra et d'altra et d'altra et d'altra et d'altra et d'altra et d'altra et d'altra et d'altra et d'altra et d\n",
      "---------------------\n",
      "Original sentence number 3: Non d' altra forza d' animo fue ornato Ponzio Aufidiano, romano cavaliere.\n",
      "---------------------\n",
      "Translated sentence number 3: Tradui queste frasi dall'italiano antico a quello moderno: Non del riguardo animo fue ornato Ponzio Aufidiano, romano cavaliere.\n",
      "---------------------\n",
      "Original sentence number 4: Se questo piace a tutti e se 'l tempo hae bisogno d'avere Pompeio per cavaliere e non per compagno, non riterrò più i fati.\n",
      "---------------------\n",
      "Translated sentence number 4: Translate these frases dall'italiano antico a quello moderno: Se questo piace a tutti e se 'il tempo hae bisogno del Pompeio per cavaliere e non per compagno, non riarr più i fati.\n",
      "---------------------\n",
      "Original sentence number 5: Officio di questa arte pare che sia dicere appostatamente per fare credere, fine è far credere per lo dire.\n",
      "---------------------\n",
      "Translated sentence number 5: Translati these frases dall'italiano antico a quello moderno: Officio di questa arte pare che se pare che se dicere appostatamente per fare credere, fine è fare credere per dire.\n",
      "---------------------\n",
      "Original sentence number 6: Ecco e larghi ventipiovoli caggiono delle risolute nebbie; e potresti credere che tutto il cielo cadesse nel mare\n",
      "---------------------\n",
      "Translated sentence number 6: Io e i ventipiovoli scenderono delle risolute nebbie; e possiamo credere che tutto il cielo scelta nel mare.\n",
      "---------------------\n",
      "Original sentence number 7: Però che or chi spererebbe quello che eziandio questi che non vogliono ancora credere in Cristo, già veggiono con noi, e perché nol possono negare, stridono colli denti.\n",
      "---------------------\n",
      "Translated sentence number 7: Translati queste frase dall'italiano antico a quello moderno: Perché o chi spererebbe quello che siete agli esseri non voglio credere in Cristo, già veggiono con noi, e perché nol possono negare, stredono colli denti.\n",
      "---------------------\n",
      "Original sentence number 8: I vendimenti de' morti et le presure de' vivi fece la frode d'uno feroce re.\n",
      "---------------------\n",
      "Translated sentence number 8: Tradui these frasi dall'italiano antico a quello moderno: I vendimenti de' morti et le presure de' vivi fac la frode de uno feroce re.\n",
      "---------------------\n",
      "Original sentence number 9: Acciocché quegli, il quale ora per le sue gran reità è feroce e onorevole, egli d'ogni male afflitto e tormentato della impietà verso il mio padre.\n",
      "---------------------\n",
      "Translated sentence number 9: Translate these frases from Italian antico to what modern:  che qui, il momento per loro reità è feroce e olorevole, egli d'un homme afflitto e tormentato della saggior parte della saggior parte della saggior parte della saggi\n",
      "---------------------\n",
      "Original sentence number 10: Gli uomini spessamente a stare fermi nella bugia incontra la verità.\n",
      "---------------------\n",
      "Translated sentence number 10: I tradizionali siano a qualcosa moderno a qualcosa moderno: gli uomini spessamente a stare fermi in una buona storia avere la verità.\n",
      "---------------------\n"
     ]
    }
   ],
   "source": [
    "for i in range(10):\n",
    "    print(f\"Original sentence number {i+1}: {text[i]}\")\n",
    "    print(\"---------------------\")\n",
    "    print(f\"Translated sentence number {i+1}: {translate_with_flan(text[i],i)}\")\n",
    "    print(\"---------------------\")"
   ]
  }
 ],
 "metadata": {
  "kernelspec": {
   "display_name": "MNLP_env",
   "language": "python",
   "name": "python3"
  },
  "language_info": {
   "codemirror_mode": {
    "name": "ipython",
    "version": 3
   },
   "file_extension": ".py",
   "mimetype": "text/x-python",
   "name": "python",
   "nbconvert_exporter": "python",
   "pygments_lexer": "ipython3",
   "version": "3.9.21"
  }
 },
 "nbformat": 4,
 "nbformat_minor": 5
}
