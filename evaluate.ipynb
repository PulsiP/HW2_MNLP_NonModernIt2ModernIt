{
 "cells": [
  {
   "cell_type": "markdown",
   "id": "5ae131f1",
   "metadata": {},
   "source": [
    "## Import Libraries and setup"
   ]
  },
  {
   "cell_type": "code",
   "execution_count": 47,
   "id": "eda23056",
   "metadata": {},
   "outputs": [],
   "source": [
    "import sklearn\n",
    "import pandas as pd\n",
    "import numpy as np"
   ]
  },
  {
   "cell_type": "code",
   "execution_count": 48,
   "id": "aea8571b",
   "metadata": {},
   "outputs": [],
   "source": [
    "MODEL = \"gemma_3b_NOCONTEXT\""
   ]
  },
  {
   "cell_type": "code",
   "execution_count": 49,
   "id": "9cb17f5c",
   "metadata": {},
   "outputs": [],
   "source": [
    "match MODEL:\n",
    "    case \"gemma_3b_NOCONTEXT\":\n",
    "        result_path = \"./model_translation_result/gemma_3b_nocontext_res.csv\"\n",
    "    case \"gemma_3b_CONTEXT\":\n",
    "        result_path = \"./model_translation_result/gemma_3b_context_res.csv\"\n",
    "    case _:\n",
    "        result_path = \"\""
   ]
  },
  {
   "cell_type": "markdown",
   "id": "93b0f570",
   "metadata": {},
   "source": [
    "## Loading Results"
   ]
  },
  {
   "cell_type": "code",
   "execution_count": 50,
   "id": "964d10fb",
   "metadata": {},
   "outputs": [],
   "source": [
    "df = pd.read_csv(result_path, sep=\";\")"
   ]
  },
  {
   "cell_type": "code",
   "execution_count": 51,
   "id": "9d060141",
   "metadata": {},
   "outputs": [
    {
     "name": "stdout",
     "output_type": "stream",
     "text": [
      "[2 3 4 1 2 2 3 1 2 1]\n"
     ]
    }
   ],
   "source": [
    "gpt_score = df[\"GPT_score\"].to_numpy()\n",
    "user_score = df[\"user_score\"].to_numpy()\n",
    "prometheus_score = df[\"user_score\"].to_numpy()\n",
    "\n",
    "print(gpt_score)"
   ]
  },
  {
   "cell_type": "markdown",
   "id": "517a747e",
   "metadata": {},
   "source": [
    "## Correlation between score"
   ]
  },
  {
   "cell_type": "code",
   "execution_count": 52,
   "id": "8a60bb15",
   "metadata": {},
   "outputs": [
    {
     "name": "stdout",
     "output_type": "stream",
     "text": [
      "--------Compute Mean for each score--------\n",
      "GPT score        -> 2.1\n",
      "Prometheus score -> 2.6\n",
      "User score       -> 2.6\n"
     ]
    }
   ],
   "source": [
    "print(f\"--------Compute Mean for each score--------\")\n",
    "\n",
    "print(f\"GPT score        -> {np.mean(gpt_score)}\")\n",
    "print(f\"Prometheus score -> {np.mean(prometheus_score)}\")\n",
    "print(f\"User score       -> {np.mean(user_score)}\")\n"
   ]
  },
  {
   "cell_type": "markdown",
   "id": "cf64dfb4",
   "metadata": {},
   "source": [
    "1. GPT score correlation"
   ]
  },
  {
   "cell_type": "code",
   "execution_count": 53,
   "id": "c04f15c6",
   "metadata": {},
   "outputs": [
    {
     "name": "stdout",
     "output_type": "stream",
     "text": [
      "Pearson:  0.74\n",
      "Spearman: 0.81\n",
      "Kendall:  0.71\n"
     ]
    }
   ],
   "source": [
    "from scipy.stats import pearsonr, spearmanr, kendalltau\n",
    "\n",
    "\n",
    "pearson_corr, _ = pearsonr(user_score, gpt_score)\n",
    "spearman_corr, _ = spearmanr(user_score, gpt_score)\n",
    "kendall_corr, _ = kendalltau(user_score, gpt_score)\n",
    "\n",
    "\n",
    "print(f\"Pearson:  {pearson_corr:.2f}\")\n",
    "print(f\"Spearman: {spearman_corr:.2f}\")\n",
    "print(f\"Kendall:  {kendall_corr:.2f}\")"
   ]
  },
  {
   "cell_type": "markdown",
   "id": "c2bea766",
   "metadata": {},
   "source": [
    "2. Prometheus score correlation"
   ]
  },
  {
   "cell_type": "code",
   "execution_count": 54,
   "id": "3fee2e5c",
   "metadata": {},
   "outputs": [
    {
     "name": "stdout",
     "output_type": "stream",
     "text": [
      "Pearson:  1.00\n",
      "Spearman: 1.00\n",
      "Kendall:  1.00\n"
     ]
    }
   ],
   "source": [
    "from scipy.stats import pearsonr, spearmanr, kendalltau\n",
    "\n",
    "\n",
    "pearson_corr, _ = pearsonr(user_score, prometheus_score)\n",
    "spearman_corr, _ = spearmanr(user_score, prometheus_score)\n",
    "kendall_corr, _ = kendalltau(user_score, prometheus_score)\n",
    "\n",
    "\n",
    "print(f\"Pearson:  {pearson_corr:.2f}\")\n",
    "print(f\"Spearman: {spearman_corr:.2f}\")\n",
    "print(f\"Kendall:  {kendall_corr:.2f}\")"
   ]
  }
 ],
 "metadata": {
  "kernelspec": {
   "display_name": "uni311",
   "language": "python",
   "name": "python3"
  },
  "language_info": {
   "codemirror_mode": {
    "name": "ipython",
    "version": 3
   },
   "file_extension": ".py",
   "mimetype": "text/x-python",
   "name": "python",
   "nbconvert_exporter": "python",
   "pygments_lexer": "ipython3",
   "version": "3.12.9"
  }
 },
 "nbformat": 4,
 "nbformat_minor": 5
}
