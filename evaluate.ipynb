{
 "cells": [
  {
   "cell_type": "markdown",
   "id": "5ae131f1",
   "metadata": {},
   "source": [
    "## Import Libraries and setup"
   ]
  },
  {
   "cell_type": "code",
   "execution_count": 290,
   "id": "eda23056",
   "metadata": {},
   "outputs": [],
   "source": [
    "import sklearn\n",
    "import pandas as pd\n",
    "import numpy as np"
   ]
  },
  {
   "cell_type": "markdown",
   "id": "a8da4066",
   "metadata": {},
   "source": [
    "## Select A Model Result to Evaluate\n",
    "- You can chooice from these model result:\n",
    "    - gemma_3_NOCONTEXT\n",
    "    - gemma_3_CONTEXT\n",
    "    - gemma_3_LANGUAGE_TEACHER\n",
    "    - gemma_3_RULES\n",
    "    - helsinki_AUG\n",
    "    - helsinky_NOAUG\n",
    "    - Llama8b\n",
    "    - Flan_t5_XL\n",
    "- If yoy want to save evaluation to json turn var \"save_as_json = True\""
   ]
  },
  {
   "cell_type": "code",
   "execution_count": null,
   "id": "aea8571b",
   "metadata": {},
   "outputs": [],
   "source": [
    "\n",
    "MODEL = \"Flan_t5_XL\"\n",
    "\n",
    "save_as_json = True"
   ]
  },
  {
   "cell_type": "code",
   "execution_count": 292,
   "id": "9cb17f5c",
   "metadata": {},
   "outputs": [],
   "source": [
    "file_name = \"\"\n",
    "match MODEL:\n",
    "    # GEMMA FAM\n",
    "    case \"gemma_3_NOCONTEXT\":\n",
    "        file_name = \"gemma_3_1b_nocontext_res\"    \n",
    "    case \"gemma_3_CONTEXT\":\n",
    "        file_name = \"gemma_3_1b_context_res\"\n",
    "    case \"gemma_3_LANGUAGE_TEACHER\":\n",
    "        file_name = \"gemma_3_1b_language_teacher_res\"\n",
    "    case \"gemma_3_RULES\":\n",
    "        file_name = \"gemma_3_1b_with_rules_res\"\n",
    "\n",
    "\n",
    "    #HELSINKI FAM\n",
    "    case \"helsinki_AUG\":\n",
    "        file_name = \"Helsinki_res\"\n",
    "    case \"helsinky_NOAUG\":\n",
    "        file_name = \"Helsinki_noaug_res\"\n",
    "\n",
    "    #LLAMA\n",
    "    case \"Llama8b\":\n",
    "        file_name = \"LLama8b_res\"\n",
    "\n",
    "    #FLAN T5\n",
    "    case \"Flan_t5_XL\":\n",
    "        file_name = \"flan_t5_XL_res\"\n",
    "\n",
    "    #BASE CASE \n",
    "    case _:\n",
    "        result_path = \"\"\n",
    "\n",
    "result_path =f\"./model_translation_result/{file_name}.csv\""
   ]
  },
  {
   "cell_type": "markdown",
   "id": "93b0f570",
   "metadata": {},
   "source": [
    "## Loading Results"
   ]
  },
  {
   "cell_type": "code",
   "execution_count": 293,
   "id": "964d10fb",
   "metadata": {},
   "outputs": [],
   "source": [
    "df = pd.read_csv(result_path, sep=\";\")"
   ]
  },
  {
   "cell_type": "code",
   "execution_count": 294,
   "id": "9d060141",
   "metadata": {},
   "outputs": [
    {
     "name": "stdout",
     "output_type": "stream",
     "text": [
      "[3 5 1 5 4 5 1 5 3 1]\n"
     ]
    }
   ],
   "source": [
    "gpt_score = df[\"GPT_score\"].to_numpy()\n",
    "user_score = df[\"user_score\"].to_numpy()\n",
    "prometheus_score = df[\"prometheus_score\"].to_numpy()\n",
    "\n",
    "print(gpt_score)"
   ]
  },
  {
   "cell_type": "markdown",
   "id": "517a747e",
   "metadata": {},
   "source": [
    "## Correlation between score"
   ]
  },
  {
   "cell_type": "code",
   "execution_count": 295,
   "id": "8a60bb15",
   "metadata": {},
   "outputs": [
    {
     "name": "stdout",
     "output_type": "stream",
     "text": [
      "--------Compute Mean for each score--------\n",
      "GPT score        -> 3.3\n",
      "Prometheus score -> 2.7\n",
      "User score       -> 3.0\n"
     ]
    }
   ],
   "source": [
    "print(f\"--------Compute Mean for each score--------\")\n",
    "\n",
    "print(f\"GPT score        -> {np.mean(gpt_score)}\")\n",
    "print(f\"Prometheus score -> {np.mean(prometheus_score)}\")\n",
    "print(f\"User score       -> {np.mean(user_score)}\")\n"
   ]
  },
  {
   "cell_type": "markdown",
   "id": "cf64dfb4",
   "metadata": {},
   "source": [
    "1. GPT score correlation"
   ]
  },
  {
   "cell_type": "code",
   "execution_count": 296,
   "id": "c04f15c6",
   "metadata": {},
   "outputs": [
    {
     "name": "stdout",
     "output_type": "stream",
     "text": [
      "Pearson:  0.92\n",
      "Spearman: 0.92\n",
      "Kendall:  0.88\n"
     ]
    }
   ],
   "source": [
    "from scipy.stats import pearsonr, spearmanr, kendalltau\n",
    "\n",
    "\n",
    "pearson_corr, _ = pearsonr(user_score, gpt_score)\n",
    "spearman_corr, _ = spearmanr(user_score, gpt_score)\n",
    "kendall_corr, _ = kendalltau(user_score, gpt_score)\n",
    "\n",
    "\n",
    "print(f\"Pearson:  {pearson_corr:.2f}\")\n",
    "print(f\"Spearman: {spearman_corr:.2f}\")\n",
    "print(f\"Kendall:  {kendall_corr:.2f}\")\n",
    "\n",
    "Prometheus_score = {\"Pearson\": pearson_corr, \"spearman_corr\": spearman_corr, \"kendall_corr\": kendall_corr}"
   ]
  },
  {
   "cell_type": "markdown",
   "id": "c2bea766",
   "metadata": {},
   "source": [
    "2. Prometheus score correlation"
   ]
  },
  {
   "cell_type": "code",
   "execution_count": 297,
   "id": "3fee2e5c",
   "metadata": {},
   "outputs": [
    {
     "name": "stdout",
     "output_type": "stream",
     "text": [
      "Pearson:  0.58\n",
      "Spearman: 0.58\n",
      "Kendall:  0.45\n"
     ]
    }
   ],
   "source": [
    "from scipy.stats import pearsonr, spearmanr, kendalltau\n",
    "\n",
    "\n",
    "pearson_corr, _ = pearsonr(user_score, prometheus_score)\n",
    "spearman_corr, _ = spearmanr(user_score, prometheus_score)\n",
    "kendall_corr, _ = kendalltau(user_score, prometheus_score)\n",
    "\n",
    "\n",
    "print(f\"Pearson:  {pearson_corr:.2f}\")\n",
    "print(f\"Spearman: {spearman_corr:.2f}\")\n",
    "print(f\"Kendall:  {kendall_corr:.2f}\")\n",
    "\n",
    "GPT_scores = {\"Pearson\": pearson_corr, \"spearman_corr\": spearman_corr, \"kendall_corr\": kendall_corr}"
   ]
  },
  {
   "cell_type": "markdown",
   "id": "bc4bde20",
   "metadata": {},
   "source": [
    "## Save Json"
   ]
  },
  {
   "cell_type": "code",
   "execution_count": 298,
   "id": "631a4c4e",
   "metadata": {},
   "outputs": [],
   "source": [
    "import json\n",
    "import os\n",
    "# Costruisci la struttura JSON richiesta\n",
    "output = [df.to_dict(orient='records'), {'GPT_score': GPT_scores}, {'Prometheus_score': Prometheus_score}]\n",
    "\n",
    "path = f\"./model_translation_result_json/{file_name}.json\"\n",
    "os.makedirs(os.path.dirname(path), exist_ok=True)\n",
    "# Salva su file\n",
    "with open(path, 'w', encoding='utf-8') as f:\n",
    "    json.dump(output, f, indent=2, ensure_ascii=False)"
   ]
  }
 ],
 "metadata": {
  "kernelspec": {
   "display_name": "uni311",
   "language": "python",
   "name": "python3"
  },
  "language_info": {
   "codemirror_mode": {
    "name": "ipython",
    "version": 3
   },
   "file_extension": ".py",
   "mimetype": "text/x-python",
   "name": "python",
   "nbconvert_exporter": "python",
   "pygments_lexer": "ipython3",
   "version": "3.12.9"
  }
 },
 "nbformat": 4,
 "nbformat_minor": 5
}
