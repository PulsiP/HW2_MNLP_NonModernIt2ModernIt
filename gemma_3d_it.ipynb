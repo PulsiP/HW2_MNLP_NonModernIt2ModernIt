{
 "cells": [
  {
   "cell_type": "code",
   "execution_count": 1,
   "metadata": {},
   "outputs": [],
   "source": [
    "import torch\n",
    "from transformers import pipeline, AutoModelForCausalLM, AutoTokenizer\n",
    "import pandas as pd"
   ]
  },
  {
   "cell_type": "code",
   "execution_count": 2,
   "metadata": {},
   "outputs": [
    {
     "name": "stderr",
     "output_type": "stream",
     "text": [
      "Device set to use cuda\n"
     ]
    }
   ],
   "source": [
    "model_name = \"google/gemma-3-1b-it\"\n",
    "tokenizer = AutoTokenizer.from_pretrained(model_name)\n",
    "model = AutoModelForCausalLM.from_pretrained(model_name, torch_dtype=torch.bfloat16, device_map=\"cuda\")\n",
    "pipe = pipeline(\"text-generation\", model=model, tokenizer=tokenizer)"
   ]
  },
  {
   "cell_type": "code",
   "execution_count": 3,
   "metadata": {},
   "outputs": [],
   "source": [
    "df = pd.read_csv(\"cleaned_dataset.csv\")\n",
    "\n",
    "row = df.iloc[12]\n",
    "\n",
    "author = row[\"Author\"]\n",
    "date = row[\"Date\"]\n",
    "region = row[\"Region\"]\n",
    "sentence = row[\"Sentence\"]"
   ]
  },
  {
   "cell_type": "code",
   "execution_count": 4,
   "metadata": {},
   "outputs": [],
   "source": [
    "system_prompt = \"\"\" Sei un esperto di lingua italiana. Il tuo compito è modernizzare testi antichi in italiano contemporaneo. Di seguito alcuni esempi:\n",
    "\n",
    "Testo antico: \"quella guerra ben fatta l' opera perché etc. Et dall' altra parte Aiaces era uno cavaliere franco e prode all' arme, di gran guisa, ma non era pieno di grande senno\"\n",
    "Traduzione moderna: \"Quella guerra fu ben condotta per raggiungere il suo scopo. Dall'altra parte, Aiace era un cavaliere leale e valoroso nelle armi, di grande statura, ma non molto saggio.\"\n",
    "\n",
    "Testo antico: \"crudele, e di tutte le colpe pigli vendetta, come dice la legge, ed a neuno cavaliere perdoni che pecchi.\"\n",
    "Traduzione moderna: \"È crudele e si vendica di ogni colpa, come stabilisce la legge, e non perdona alcun cavaliere che sbagli.\"\n",
    "\n",
    "Testo antico: \"Non d' altra forza d' animo fue ornato Ponzio Aufidiano, romano cavaliere.\"\n",
    "Traduzione moderna: \"Ponzio Aufidiano, cavaliere romano, non era dotato di maggiore coraggio.\"\n",
    "\n",
    "Testo antico: \"Se questo piace a tutti e se 'l tempo hae bisogno d'avere Pompeio per cavaliere e non per compagno, non riterrò più i fati.\"\n",
    "Traduzione moderna: \"Se questo è il volere di tutti, e se i tempi richiedono Pompeo come guida e non come alleato, allora non tratterrò più il destino.\"\n",
    "\n",
    "Testo antico: \"Officio di questa arte pare che sia dicere appostatamente per fare credere, fine è far credere per lo dire.\"\n",
    "Traduzione moderna: \"Il compito di quest'arte sembra essere quello di parlare con astuzia per far credere; lo scopo è dunque persuadere attraverso il linguaggio.\"\n",
    "\n",
    "Testo antico: \"Ecco e larghi ventipiovoli caggiono delle risolute nebbie; e potresti credere che tutto il cielo cadesse nel mare\"\n",
    "Traduzione moderna: \"Ecco che ampie piogge ventose cadono dalle nebbie diradate; potresti pensare che tutto il cielo stia precipitando nel mare.\"\n",
    "\n",
    "Testo antico: \"Però che or chi spererebbe quello che eziandio questi che non vogliono ancora credere in Cristo, già veggiono con noi, e perché nol possono negare, stridono colli denti.\"\n",
    "Traduzione moderna: \"Chi ormai oserebbe sperare ciò che persino quelli che ancora non vogliono credere in Cristo vedono con i propri occhi insieme a noi, e poiché non possono negarlo, digrignano i denti.\"\n",
    "\n",
    "Testo antico: \"I vendimenti de' morti et le presure de' vivi fece la frode d'uno feroce re.\"\n",
    "Traduzione moderna: \"Fu l'inganno di un re feroce a provocare le vendette dei morti e le catture dei vivi.\"\n",
    "\n",
    "Testo antico: \"Acciocché quegli, il quale ora per le sue gran reità è feroce e onorevole, egli d'ogni male afflitto e tormentato della impietà verso il mio padre.\"\n",
    "Traduzione moderna: \"Affinché colui che ora, per i suoi grandi misfatti, è temuto e rispettato, sia tormentato da ogni male a causa della sua empietà verso mio padre.\"\n",
    "\n",
    "Testo antico: \"Gli uomini spessamente a stare fermi nella bugia incontra la verità.\"\n",
    "Traduzione moderna: \"Gli uomini spesso restano fermi nella menzogna, opponendosi alla verità.\"\n",
    "\"\"\""
   ]
  },
  {
   "cell_type": "code",
   "execution_count": 5,
   "metadata": {},
   "outputs": [],
   "source": [
    "user_prompt = f\"\"\"Modernizza il seguente testo antico in italiano contemporaneo.\n",
    "Contesto: Autore: {author}, Data: {date}, Regione: {region}\n",
    "Testo antico: \"{sentence}\"\n",
    "\n",
    "Scrivi solo ed esclusivamente la traduzione moderna:\"\"\"\n",
    "\n",
    "messages = [\n",
    "    {\"role\": \"system\", \"content\": system_prompt},\n",
    "    {\"role\": \"user\", \"content\": user_prompt}\n",
    "]"
   ]
  },
  {
   "cell_type": "code",
   "execution_count": 6,
   "metadata": {},
   "outputs": [
    {
     "name": "stdout",
     "output_type": "stream",
     "text": [
      "Frase antica:\n",
      "Corbio nipote d' Ortensio menò sua vita più bassa e più viziosa\n",
      "Traduzione moderna:\n",
      "“Corbio, nipote di Ortensio, morì più velocemente e con più malvagità.”\n"
     ]
    }
   ],
   "source": [
    "output = pipe(messages, max_new_tokens=300)\n",
    "assistant_reply = output[0][\"generated_text\"][-1][\"content\"]\n",
    "\n",
    "print(\"Frase antica:\")\n",
    "print(sentence)\n",
    "print(\"Traduzione moderna:\")\n",
    "print(assistant_reply)"
   ]
  }
 ],
 "metadata": {
  "language_info": {
   "name": "python"
  }
 },
 "nbformat": 4,
 "nbformat_minor": 2
}
