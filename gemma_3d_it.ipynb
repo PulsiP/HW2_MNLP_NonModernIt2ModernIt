{
 "cells": [
  {
   "cell_type": "code",
   "execution_count": 5,
   "metadata": {},
   "outputs": [],
   "source": [
    "import torchvision\n",
    "import torch\n",
    "from transformers import pipeline, AutoModelForCausalLM, AutoTokenizer"
   ]
  },
  {
   "cell_type": "code",
   "execution_count": 6,
   "metadata": {},
   "outputs": [
    {
     "name": "stderr",
     "output_type": "stream",
     "text": [
      "Device set to use cuda\n"
     ]
    }
   ],
   "source": [
    "model_name = \"google/gemma-3-1b-it\"\n",
    "tokenizer = AutoTokenizer.from_pretrained(model_name)\n",
    "model = AutoModelForCausalLM.from_pretrained(model_name, torch_dtype = torch.bfloat16, device_map = \"cuda\")\n",
    "pipe = pipeline(\"text-generation\", model=model, tokenizer=tokenizer)"
   ]
  },
  {
   "cell_type": "code",
   "execution_count": 7,
   "metadata": {},
   "outputs": [],
   "source": [
    "author = \"Filippo da Santa Croce\"\n",
    "date = \"1323\"\n",
    "region = \"tosc.\"\n",
    "sentence = \"quello che sopra tutti gli altri perdonasse a' cittadini, e a cui più sicuramente possiate credere; poi ch'egli fu vostro comandatore.\""
   ]
  },
  {
   "cell_type": "code",
   "execution_count": 14,
   "metadata": {},
   "outputs": [
    {
     "name": "stdout",
     "output_type": "stream",
     "text": [
      "Assistant's reply:\n",
      "\"Tarenti, i quali erano originari di Lacedemia e prodotti da un nobile popolo greco.\"\n"
     ]
    }
   ],
   "source": [
    "#sentence = \"quella guerra ben fatta l' opera perché etc. Et dall' altra parte Aiaces era uno cavaliere franco e prode all' arme, di gran guisa, ma non era pieno di grande senno\"\n",
    "#sentence = \"Non d' altra forza d' animo fue ornato Ponzio Aufidiano, romano cavaliere\"\n",
    "#sentence = \"Marco Cornelio ch'era de' dieci compagni, studiosamente  si riservò di parlare all'ultimo.\"\n",
    "#sentence = \"i giovani, a cui il difendimento delle provincie, e la ventura di tutta la battaglia si commette\"\n",
    "#sentence = \"da' monti de' Romani si feciero nuovi nemici; contra i quali è conbactuto cum diversa ventura: perké nela primaia battaglia, essendo consolo Valerio, MMMD ne moriro de' Romani;\"\n",
    "#sentence = \"Et se l' occhio è nobile membro del corpo dell' uomo, dunque la salutazione è nobile parte della pistola, c' altressì allumina tutta la lettera come l' occhio allumina l' uomo.\"\n",
    "sentence = \"Tarentini, i quali erano nati di quegli di Lacedemonia et facta da lloro nobile cittade de' Greci.\"\n",
    "\n",
    "prompt = f\"Mdernizza il seguente testo antico in italiano contemporaneo:\\n\\n\\\"{sentence}\\\"\\n\\n scrivi solo ed esclusivamente la traduzione\"\n",
    "\n",
    "messages = [\n",
    "    {\n",
    "        \"role\": \"system\",\n",
    "        \"content\": \"\"\"Sei un esperto di lingua italiana. Il tuo compito è modernizzare testi antichi in italiano contemporaneo. Di seguito alcuni esempi:\n",
    "\n",
    "Testo antico: \"quella guerra ben fatta l' opera perché etc. Et dall' altra parte Aiaces era uno cavaliere franco e prode all' arme, di gran guisa, ma non era pieno di grande senno\"\n",
    "Traduzione moderna: \"Quella guerra fu condotta bene per il suo scopo. Dall’altra parte Aiace era un valoroso cavaliere, esperto nelle armi, ma non molto saggio.\"\n",
    "\n",
    "Testo antico: \"crudele, e di tutte le colpe pigli vendetta, come dice la legge, ed a neuno cavaliere perdoni che pecchi.\"\n",
    "Traduzione moderna: \"È crudele e si vendica di ogni colpa, come previsto dalla legge, e non perdona nessun cavaliere che sbagli.\"\n",
    "\n",
    "Testo antico: \"Non d' altra forza d' animo fue ornato Ponzio Aufidiano, romano cavaliere.\"\n",
    "Traduzione moderna: \"Ponzio Aufidiano, cavaliere romano, non fu dotato di altro coraggio.\" \"\"\"\n",
    "    },\n",
    "    {\n",
    "        \"role\": \"user\",\n",
    "        \"content\": prompt\n",
    "    }\n",
    "]\n",
    "\n",
    "output = pipe(messages, max_new_tokens=550)\n",
    "assistant_reply = output[0][\"generated_text\"][-1][\"content\"]\n",
    "\n",
    "print(\"Assistant's reply:\")\n",
    "print(assistant_reply)"
   ]
  }
 ],
 "metadata": {
  "kernelspec": {
   "display_name": "mnlp-env",
   "language": "python",
   "name": "python3"
  },
  "language_info": {
   "codemirror_mode": {
    "name": "ipython",
    "version": 3
   },
   "file_extension": ".py",
   "mimetype": "text/x-python",
   "name": "python",
   "nbconvert_exporter": "python",
   "pygments_lexer": "ipython3",
   "version": "3.12.7"
  }
 },
 "nbformat": 4,
 "nbformat_minor": 2
}
