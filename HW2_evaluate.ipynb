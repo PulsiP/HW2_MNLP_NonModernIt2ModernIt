{
  "cells": [
    {
      "cell_type": "markdown",
      "id": "5ae131f1",
      "metadata": {
        "id": "5ae131f1"
      },
      "source": [
        "## 1. Importing Libraries"
      ]
    },
    {
      "cell_type": "code",
      "execution_count": null,
      "id": "eda23056",
      "metadata": {
        "id": "eda23056"
      },
      "outputs": [],
      "source": [
        "import sklearn\n",
        "import pandas as pd\n",
        "import numpy as np"
      ]
    },
    {
      "cell_type": "markdown",
      "id": "a8da4066",
      "metadata": {
        "id": "a8da4066"
      },
      "source": [
        "## 2. Select A Model to Evaluate\n",
        "- You can choose from these models:\n",
        "    - gemma_3_No-In-Context-Learning\n",
        "    - gemma_3_With-In-Context-Learning\n",
        "    - gemma_3_With-Prompt-Language_Teacher\n",
        "    - gemma_3_With-Prompt-Rules\n",
        "    - helsinki_with-Augmented-Dataset\n",
        "    - helsinky_With-No-Augmented-Dataset\n",
        "    - Llama8b\n",
        "    - Flan_t5_XL\n",
        "- If you want to save the evaluation as a json file turn var \"save_as_json\" to \"True\""
      ]
    },
    {
      "cell_type": "code",
      "execution_count": null,
      "id": "aea8571b",
      "metadata": {
        "id": "aea8571b"
      },
      "outputs": [],
      "source": [
        "MODEL = \"Flan_t5_XL\"\n",
        "\n",
        "save_as_json = True"
      ]
    },
    {
      "cell_type": "markdown",
      "source": [
        "## 3. Models"
      ],
      "metadata": {
        "id": "-IQ_1pOjzy10"
      },
      "id": "-IQ_1pOjzy10"
    },
    {
      "cell_type": "code",
      "execution_count": null,
      "id": "9cb17f5c",
      "metadata": {
        "id": "9cb17f5c"
      },
      "outputs": [],
      "source": [
        "file_name = \"\"\n",
        "match MODEL:\n",
        "    # GEMMA FAM\n",
        "    case \"gemma_3_NOCONTEXT\":\n",
        "        file_name = \"gemma_3_1b_nocontext_res\"\n",
        "    case \"gemma_3_CONTEXT\":\n",
        "        file_name = \"gemma_3_1b_context_res\"\n",
        "    case \"gemma_3_LANGUAGE_TEACHER\":\n",
        "        file_name = \"gemma_3_1b_language_teacher_res\"\n",
        "    case \"gemma_3_RULES\":\n",
        "        file_name = \"gemma_3_1b_with_rules_res\"\n",
        "\n",
        "\n",
        "    #HELSINKI FAM\n",
        "    case \"helsinki_AUG\":\n",
        "        file_name = \"Helsinki_res\"\n",
        "    case \"helsinky_NOAUG\":\n",
        "        file_name = \"Helsinki_noaug_res\"\n",
        "\n",
        "    #LLAMA\n",
        "    case \"Llama8b\":\n",
        "        file_name = \"LLama8b_res\"\n",
        "\n",
        "    #FLAN T5\n",
        "    case \"Flan_t5_XL\":\n",
        "        file_name = \"flan_t5_XL_res\"\n",
        "\n",
        "    #BASE CASE\n",
        "    case _:\n",
        "        result_path = \"\"\n",
        "\n",
        "result_path =f\"./model_translation_result/{file_name}.csv\""
      ]
    },
    {
      "cell_type": "markdown",
      "id": "93b0f570",
      "metadata": {
        "id": "93b0f570"
      },
      "source": [
        "## 4. Loading Results"
      ]
    },
    {
      "cell_type": "code",
      "execution_count": null,
      "id": "964d10fb",
      "metadata": {
        "id": "964d10fb"
      },
      "outputs": [],
      "source": [
        "df = pd.read_csv(result_path, sep=\";\")"
      ]
    },
    {
      "cell_type": "code",
      "execution_count": null,
      "id": "9d060141",
      "metadata": {
        "id": "9d060141",
        "outputId": "e5a7de67-c4e0-4d76-a377-02f560098074"
      },
      "outputs": [
        {
          "name": "stdout",
          "output_type": "stream",
          "text": [
            "[1 4 5 2 2 4 2 3 4 3]\n"
          ]
        }
      ],
      "source": [
        "gpt_score = df[\"GPT_score\"].to_numpy()\n",
        "user_score = df[\"user_score\"].to_numpy()\n",
        "prometheus_score = df[\"prometheus_score\"].to_numpy()\n",
        "\n",
        "print(gpt_score)"
      ]
    },
    {
      "cell_type": "markdown",
      "id": "517a747e",
      "metadata": {
        "id": "517a747e"
      },
      "source": [
        "## 5. Correlation between score"
      ]
    },
    {
      "cell_type": "code",
      "execution_count": null,
      "id": "8a60bb15",
      "metadata": {
        "id": "8a60bb15",
        "outputId": "86619258-f57b-4a74-af93-115bf5ebdc33"
      },
      "outputs": [
        {
          "name": "stdout",
          "output_type": "stream",
          "text": [
            "--------Compute Mean for each score--------\n",
            "GPT score        -> 3.0\n",
            "Prometheus score -> 2.2\n",
            "User score       -> 1.6\n"
          ]
        }
      ],
      "source": [
        "print(f\"--------Compute Mean for each score--------\")\n",
        "\n",
        "print(f\"GPT score        -> {np.mean(gpt_score)}\")\n",
        "print(f\"Prometheus score -> {np.mean(prometheus_score)}\")\n",
        "print(f\"User score       -> {np.mean(user_score)}\")\n"
      ]
    },
    {
      "cell_type": "markdown",
      "id": "cf64dfb4",
      "metadata": {
        "id": "cf64dfb4"
      },
      "source": [
        "1. GPT score correlation"
      ]
    },
    {
      "cell_type": "code",
      "execution_count": null,
      "id": "c04f15c6",
      "metadata": {
        "id": "c04f15c6",
        "outputId": "46382786-4579-4a2d-b724-6bab4f03a2d0"
      },
      "outputs": [
        {
          "name": "stdout",
          "output_type": "stream",
          "text": [
            "Pearson:  0.53\n",
            "Spearman: 0.54\n",
            "Kendall:  0.43\n"
          ]
        }
      ],
      "source": [
        "from scipy.stats import pearsonr, spearmanr, kendalltau\n",
        "\n",
        "\n",
        "pearson_corr, _ = pearsonr(user_score, gpt_score)\n",
        "spearman_corr, _ = spearmanr(user_score, gpt_score)\n",
        "kendall_corr, _ = kendalltau(user_score, gpt_score)\n",
        "\n",
        "\n",
        "print(f\"Pearson:  {pearson_corr:.2f}\")\n",
        "print(f\"Spearman: {spearman_corr:.2f}\")\n",
        "print(f\"Kendall:  {kendall_corr:.2f}\")\n",
        "\n",
        "Prometheus_score = {\"Pearson\": pearson_corr, \"spearman_corr\": spearman_corr, \"kendall_corr\": kendall_corr}"
      ]
    },
    {
      "cell_type": "markdown",
      "id": "c2bea766",
      "metadata": {
        "id": "c2bea766"
      },
      "source": [
        "2. Prometheus score correlation"
      ]
    },
    {
      "cell_type": "code",
      "execution_count": null,
      "id": "3fee2e5c",
      "metadata": {
        "id": "3fee2e5c",
        "outputId": "01e9e922-d450-4063-bdc1-1f524feb4522"
      },
      "outputs": [
        {
          "name": "stdout",
          "output_type": "stream",
          "text": [
            "Pearson:  0.64\n",
            "Spearman: 0.56\n",
            "Kendall:  0.53\n"
          ]
        }
      ],
      "source": [
        "from scipy.stats import pearsonr, spearmanr, kendalltau\n",
        "\n",
        "\n",
        "pearson_corr, _ = pearsonr(user_score, prometheus_score)\n",
        "spearman_corr, _ = spearmanr(user_score, prometheus_score)\n",
        "kendall_corr, _ = kendalltau(user_score, prometheus_score)\n",
        "\n",
        "\n",
        "print(f\"Pearson:  {pearson_corr:.2f}\")\n",
        "print(f\"Spearman: {spearman_corr:.2f}\")\n",
        "print(f\"Kendall:  {kendall_corr:.2f}\")\n",
        "\n",
        "GPT_scores = {\"Pearson\": pearson_corr, \"spearman_corr\": spearman_corr, \"kendall_corr\": kendall_corr}"
      ]
    },
    {
      "cell_type": "markdown",
      "id": "bc4bde20",
      "metadata": {
        "id": "bc4bde20"
      },
      "source": [
        "## 6. Save Json"
      ]
    },
    {
      "cell_type": "code",
      "execution_count": null,
      "id": "631a4c4e",
      "metadata": {
        "id": "631a4c4e"
      },
      "outputs": [],
      "source": [
        "import json\n",
        "import os\n",
        "# Costruisci la struttura JSON richiesta\n",
        "output = [df.to_dict(orient='records'), {'GPT_score': GPT_scores}, {'Prometheus_score': Prometheus_score}]\n",
        "\n",
        "path = f\"./model_translation_result_json/{file_name}.json\"\n",
        "os.makedirs(os.path.dirname(path), exist_ok=True)\n",
        "# Salva su file\n",
        "with open(path, 'w', encoding='utf-8') as f:\n",
        "    json.dump(output, f, indent=2, ensure_ascii=False)"
      ]
    }
  ],
  "metadata": {
    "kernelspec": {
      "display_name": "uni311",
      "language": "python",
      "name": "python3"
    },
    "language_info": {
      "codemirror_mode": {
        "name": "ipython",
        "version": 3
      },
      "file_extension": ".py",
      "mimetype": "text/x-python",
      "name": "python",
      "nbconvert_exporter": "python",
      "pygments_lexer": "ipython3",
      "version": "3.12.9"
    },
    "colab": {
      "provenance": []
    }
  },
  "nbformat": 4,
  "nbformat_minor": 5
}